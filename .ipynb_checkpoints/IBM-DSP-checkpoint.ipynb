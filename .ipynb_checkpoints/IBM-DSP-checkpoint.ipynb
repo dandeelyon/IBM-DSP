{
 "cells": [
  {
   "cell_type": "markdown",
   "metadata": {},
   "source": [
    "# IBM-Data Science Professional certificate. \n",
    "\n",
    "Hello, my name is Daniel A. Dycus. While most of my prior experience is with R and Matlab, this is the first time I've spent much time working with Python. I currently work as the Technical Manager of N. America for a French company named LAFFORT. In this course offered by IBM, I've learned to develop my Python skills. This notebook will mainly be used for the IBM Data Science Professional Capstone Project. In this document I'll perform the analytical and programming requirements for the certification by IBM. As this is the final project I'll attempt to write code which will:\n",
    "\n",
    "   <ul>\n",
    "         <li>Be efficient through utlizing iterative statements and variables.</li>\n",
    "         <li>Keep my notebook clean by incorporating good markdown</li>\n",
    "         <li>Provide a narrative for the data</li>\n",
    "   </ul>\n",
    "\n",
    "###### All the code and additional public repos are available on <a href=\"http://github.com/dandeelyon/\">Github</a>. \n"
   ]
  },
  {
   "cell_type": "code",
   "execution_count": 11,
   "metadata": {},
   "outputs": [],
   "source": [
    "# Let's get started with loading some of the common libraries including numpy and pandas. "
   ]
  },
  {
   "cell_type": "code",
   "execution_count": 12,
   "metadata": {},
   "outputs": [],
   "source": [
    "import numpy as np\n",
    "import pandas as pd"
   ]
  },
  {
   "cell_type": "code",
   "execution_count": 9,
   "metadata": {},
   "outputs": [],
   "source": [
    "# Let's also say hello to everyone!"
   ]
  },
  {
   "cell_type": "code",
   "execution_count": 10,
   "metadata": {},
   "outputs": [
    {
     "name": "stdout",
     "output_type": "stream",
     "text": [
      "Hello Capstone Project Course!\n"
     ]
    }
   ],
   "source": [
    "print (\"Hello Capstone Project Course!\")"
   ]
  },
  {
   "cell_type": "code",
   "execution_count": null,
   "metadata": {},
   "outputs": [],
   "source": []
  },
  {
   "cell_type": "code",
   "execution_count": null,
   "metadata": {},
   "outputs": [],
   "source": []
  }
 ],
 "metadata": {
  "kernelspec": {
   "display_name": "Python 3",
   "language": "python",
   "name": "python3"
  },
  "language_info": {
   "codemirror_mode": {
    "name": "ipython",
    "version": 3
   },
   "file_extension": ".py",
   "mimetype": "text/x-python",
   "name": "python",
   "nbconvert_exporter": "python",
   "pygments_lexer": "ipython3",
   "version": "3.7.6"
  }
 },
 "nbformat": 4,
 "nbformat_minor": 4
}

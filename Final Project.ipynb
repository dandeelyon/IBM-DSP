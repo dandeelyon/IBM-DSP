{
 "cells": [
  {
   "cell_type": "markdown",
   "metadata": {},
   "source": [
    "# Part I:\n",
    "\n",
    "### Territory Market Development\n",
    "\n",
    "#### Introduction     \n",
    "\n",
    "   * A description of the problem and a discussion of the background. (15 marks)  \n",
    "   \n",
    "A new technical sales representative for a winery products company has been assigned a new territory. She is to contact and develop sales relationships with wineries in the Pacific Northwestern United States. She seeks to establish new relationships and develop her new sales territory. However, the Pacific Northwestern United States includes both Washington State and Oregon State. The area encompasses vast areas and not all areas are viticulture or vineyard areas. How can she best expand her territory to include new clients?\n",
    "   \n",
    "   * A description of the data and how it will be used to solve the problem. (15 marks)\n",
    "\n",
    "We will use an existing winery list as a substitute for an actual existing client list. We gather this list by using a web scrape, an SQL query, and readcsv using pandas. Then, we'll leverage the Foursquare API to create a second list of wineries. Once I illustrate how easy data mining can be using a variety of different data acquisition steps I'll begin the analysis. In this particular problem, we'll follow the previous examples, provided by IBM and Cousera, using the simple methods of creating a map overlay and using kmeans clustering. Once we've determined where the closest potential clients are compared our current clients we'll outline some optimization parameters for additional study and conclude with a statement on how we could develop machine learning to optimize our set even further. \n",
    "       \n",
    "\n",
    "\n",
    "\n",
    "\n",
    "\n",
    "\n"
   ]
  },
  {
   "cell_type": "code",
   "execution_count": null,
   "metadata": {},
   "outputs": [],
   "source": [
    "\n"
   ]
  },
  {
   "cell_type": "code",
   "execution_count": null,
   "metadata": {},
   "outputs": [],
   "source": []
  }
 ],
 "metadata": {
  "kernelspec": {
   "display_name": "Python 3",
   "language": "python",
   "name": "python3"
  },
  "language_info": {
   "codemirror_mode": {
    "name": "ipython",
    "version": 3
   },
   "file_extension": ".py",
   "mimetype": "text/x-python",
   "name": "python",
   "nbconvert_exporter": "python",
   "pygments_lexer": "ipython3",
   "version": "3.7.6"
  }
 },
 "nbformat": 4,
 "nbformat_minor": 4
}

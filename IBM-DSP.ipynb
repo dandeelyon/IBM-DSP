{
 "cells": [
  {
   "cell_type": "markdown",
   "metadata": {},
   "source": [
    "# IBM-Data Science Professional certificate. \n",
    "\n",
    "##### Hello, my name is Daniel A. Dycus. While most of my prior experience is with R and Matlab, this is the first time I've spent much time working with Python. I currently work as the Technical Manager of N. America for a french company named LAFFORT. I use descriptive statistics and statistical analysis to generate reports for research and development in France. I also work as a liasion for the wine industry as a product consultant and experimental winemaker. I work with universities and wineries in N. America to develop experimental processes and travel around the world with a group of other Global Technical Managers to learn and develop new winemaking innovations. In this course offered by IBM, I've learned to develop my Python skills and building off a base of machine learning knowledge from a Master's thesis I wrote in graduate school. Early on, as a Biochemistry undergraduate, I was a Matlab geek and described the developmental dynamics of fermentation by Saccharomyces while learning to use matrices coming from analytical machines including Gas Chromatography and Mass Spectrometry. In this document I'll perform the analytical and programming requirements for the certification by IBM. Then, I'll apply what I've learned in this project to build a new project based on market analysis and market penetration in a sales territory for my current employer. More specifically, I attempt to write code which will:\n",
    "\n",
    "   <ul>\n",
    "         <li>Be efficient through utlizing iterative statements and variables.</li>\n",
    "         <li>Keep my notebook clean by incorporating good markdown</li>\n",
    "         <li>Provide a narrative for the data</li>\n",
    "   </ul>\n",
    "\n",
    "##### All the code and additional public repos are available on Github under user <a href=\"http://github.com/dandeelyon/\">Dandeelyon</a>. \n"
   ]
  },
  {
   "cell_type": "code",
   "execution_count": 3,
   "metadata": {},
   "outputs": [],
   "source": [
    "# Let's get started with loading some of the common libraries including numpy and pandas. "
   ]
  },
  {
   "cell_type": "code",
   "execution_count": 4,
   "metadata": {},
   "outputs": [],
   "source": [
    "import numpy as np\n",
    "import pandas as pd"
   ]
  },
  {
   "cell_type": "code",
   "execution_count": 5,
   "metadata": {},
   "outputs": [],
   "source": [
    "# Let's also say hello to everyone!"
   ]
  },
  {
   "cell_type": "code",
   "execution_count": 6,
   "metadata": {},
   "outputs": [
    {
     "name": "stdout",
     "output_type": "stream",
     "text": [
      "Hello Capstone Project Course!\n"
     ]
    }
   ],
   "source": [
    "print (\"Hello Capstone Project Course!\")"
   ]
  },
  {
   "cell_type": "code",
   "execution_count": null,
   "metadata": {},
   "outputs": [],
   "source": []
  }
 ],
 "metadata": {
  "kernelspec": {
   "display_name": "Python 3",
   "language": "python",
   "name": "python3"
  },
  "language_info": {
   "codemirror_mode": {
    "name": "ipython",
    "version": 3
   },
   "file_extension": ".py",
   "mimetype": "text/x-python",
   "name": "python",
   "nbconvert_exporter": "python",
   "pygments_lexer": "ipython3",
   "version": "3.7.6"
  }
 },
 "nbformat": 4,
 "nbformat_minor": 4
}
